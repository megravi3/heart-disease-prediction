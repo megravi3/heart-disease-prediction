{
 "cells": [
  {
   "cell_type": "code",
   "execution_count": 1,
   "metadata": {
    "colab": {
     "base_uri": "https://localhost:8080/",
     "height": 51
    },
    "colab_type": "code",
    "id": "T1ZKzhsc8Tk_",
    "outputId": "2553d48c-b78f-41fe-d2eb-6dd1a69cccd2"
   },
   "outputs": [],
   "source": [
    "import pandas as pd\n",
    "import numpy as np\n",
    "\n",
    "from sklearn.model_selection import train_test_split\n",
    "from sklearn.preprocessing import StandardScaler\n",
    "from sklearn.neighbors import KNeighborsClassifier\n",
    "from sklearn.metrics import confusion_matrix,classification_report\n",
    "from sklearn.metrics import f1_score\n",
    "from sklearn.metrics import accuracy_score\n",
    "import matplotlib.pyplot as plt\n",
    "from pandas.plotting import scatter_matrix\n",
    "import seaborn as sns\n"
   ]
  },
  {
   "cell_type": "code",
   "execution_count": 3,
   "metadata": {
    "colab": {
     "base_uri": "https://localhost:8080/",
     "height": 436
    },
    "colab_type": "code",
    "id": "pS3WNVVg8ut-",
    "outputId": "baa3bcc6-be7f-4553-e4c9-d15c364f707c"
   },
   "outputs": [
    {
     "data": {
      "text/html": [
       "<div>\n",
       "<style scoped>\n",
       "    .dataframe tbody tr th:only-of-type {\n",
       "        vertical-align: middle;\n",
       "    }\n",
       "\n",
       "    .dataframe tbody tr th {\n",
       "        vertical-align: top;\n",
       "    }\n",
       "\n",
       "    .dataframe thead th {\n",
       "        text-align: right;\n",
       "    }\n",
       "</style>\n",
       "<table border=\"1\" class=\"dataframe\">\n",
       "  <thead>\n",
       "    <tr style=\"text-align: right;\">\n",
       "      <th></th>\n",
       "      <th>age</th>\n",
       "      <th>sex</th>\n",
       "      <th>Chest Pain Type</th>\n",
       "      <th>Resting BP</th>\n",
       "      <th>Serum Cholestrol</th>\n",
       "      <th>Fasting Blood Sugar</th>\n",
       "      <th>Resting ECG</th>\n",
       "      <th>Max Heart rate achieved</th>\n",
       "      <th>Exercice induced angina</th>\n",
       "      <th>Depression induced by exercise</th>\n",
       "      <th>slope</th>\n",
       "      <th>ca</th>\n",
       "      <th>thal</th>\n",
       "      <th>target</th>\n",
       "    </tr>\n",
       "  </thead>\n",
       "  <tbody>\n",
       "    <tr>\n",
       "      <th>0</th>\n",
       "      <td>57</td>\n",
       "      <td>1</td>\n",
       "      <td>2</td>\n",
       "      <td>150</td>\n",
       "      <td>126</td>\n",
       "      <td>1</td>\n",
       "      <td>1</td>\n",
       "      <td>173</td>\n",
       "      <td>0</td>\n",
       "      <td>0.2</td>\n",
       "      <td>0</td>\n",
       "      <td>0</td>\n",
       "      <td>1</td>\n",
       "      <td>1</td>\n",
       "    </tr>\n",
       "    <tr>\n",
       "      <th>1</th>\n",
       "      <td>57</td>\n",
       "      <td>1</td>\n",
       "      <td>0</td>\n",
       "      <td>130</td>\n",
       "      <td>131</td>\n",
       "      <td>0</td>\n",
       "      <td>1</td>\n",
       "      <td>115</td>\n",
       "      <td>1</td>\n",
       "      <td>1.2</td>\n",
       "      <td>0</td>\n",
       "      <td>0</td>\n",
       "      <td>2</td>\n",
       "      <td>1</td>\n",
       "    </tr>\n",
       "    <tr>\n",
       "      <th>2</th>\n",
       "      <td>44</td>\n",
       "      <td>0</td>\n",
       "      <td>2</td>\n",
       "      <td>108</td>\n",
       "      <td>141</td>\n",
       "      <td>0</td>\n",
       "      <td>1</td>\n",
       "      <td>175</td>\n",
       "      <td>0</td>\n",
       "      <td>0.6</td>\n",
       "      <td>2</td>\n",
       "      <td>0</td>\n",
       "      <td>2</td>\n",
       "      <td>1</td>\n",
       "    </tr>\n",
       "    <tr>\n",
       "      <th>3</th>\n",
       "      <td>71</td>\n",
       "      <td>0</td>\n",
       "      <td>0</td>\n",
       "      <td>112</td>\n",
       "      <td>149</td>\n",
       "      <td>0</td>\n",
       "      <td>1</td>\n",
       "      <td>125</td>\n",
       "      <td>0</td>\n",
       "      <td>1.6</td>\n",
       "      <td>2</td>\n",
       "      <td>0</td>\n",
       "      <td>2</td>\n",
       "      <td>1</td>\n",
       "    </tr>\n",
       "    <tr>\n",
       "      <th>4</th>\n",
       "      <td>49</td>\n",
       "      <td>1</td>\n",
       "      <td>2</td>\n",
       "      <td>118</td>\n",
       "      <td>149</td>\n",
       "      <td>0</td>\n",
       "      <td>0</td>\n",
       "      <td>126</td>\n",
       "      <td>0</td>\n",
       "      <td>0.8</td>\n",
       "      <td>2</td>\n",
       "      <td>0</td>\n",
       "      <td>2</td>\n",
       "      <td>1</td>\n",
       "    </tr>\n",
       "    <tr>\n",
       "      <th>...</th>\n",
       "      <td>...</td>\n",
       "      <td>...</td>\n",
       "      <td>...</td>\n",
       "      <td>...</td>\n",
       "      <td>...</td>\n",
       "      <td>...</td>\n",
       "      <td>...</td>\n",
       "      <td>...</td>\n",
       "      <td>...</td>\n",
       "      <td>...</td>\n",
       "      <td>...</td>\n",
       "      <td>...</td>\n",
       "      <td>...</td>\n",
       "      <td>...</td>\n",
       "    </tr>\n",
       "    <tr>\n",
       "      <th>298</th>\n",
       "      <td>62</td>\n",
       "      <td>0</td>\n",
       "      <td>0</td>\n",
       "      <td>140</td>\n",
       "      <td>394</td>\n",
       "      <td>0</td>\n",
       "      <td>0</td>\n",
       "      <td>157</td>\n",
       "      <td>0</td>\n",
       "      <td>1.2</td>\n",
       "      <td>1</td>\n",
       "      <td>0</td>\n",
       "      <td>3</td>\n",
       "      <td>0</td>\n",
       "    </tr>\n",
       "    <tr>\n",
       "      <th>299</th>\n",
       "      <td>63</td>\n",
       "      <td>0</td>\n",
       "      <td>0</td>\n",
       "      <td>150</td>\n",
       "      <td>407</td>\n",
       "      <td>0</td>\n",
       "      <td>0</td>\n",
       "      <td>154</td>\n",
       "      <td>0</td>\n",
       "      <td>4.0</td>\n",
       "      <td>1</td>\n",
       "      <td>0</td>\n",
       "      <td>3</td>\n",
       "      <td>0</td>\n",
       "    </tr>\n",
       "    <tr>\n",
       "      <th>300</th>\n",
       "      <td>56</td>\n",
       "      <td>0</td>\n",
       "      <td>0</td>\n",
       "      <td>134</td>\n",
       "      <td>409</td>\n",
       "      <td>0</td>\n",
       "      <td>0</td>\n",
       "      <td>150</td>\n",
       "      <td>1</td>\n",
       "      <td>1.9</td>\n",
       "      <td>1</td>\n",
       "      <td>2</td>\n",
       "      <td>3</td>\n",
       "      <td>0</td>\n",
       "    </tr>\n",
       "    <tr>\n",
       "      <th>301</th>\n",
       "      <td>65</td>\n",
       "      <td>0</td>\n",
       "      <td>2</td>\n",
       "      <td>140</td>\n",
       "      <td>417</td>\n",
       "      <td>1</td>\n",
       "      <td>0</td>\n",
       "      <td>157</td>\n",
       "      <td>0</td>\n",
       "      <td>0.8</td>\n",
       "      <td>1</td>\n",
       "      <td>1</td>\n",
       "      <td>3</td>\n",
       "      <td>0</td>\n",
       "    </tr>\n",
       "    <tr>\n",
       "      <th>302</th>\n",
       "      <td>67</td>\n",
       "      <td>0</td>\n",
       "      <td>2</td>\n",
       "      <td>115</td>\n",
       "      <td>564</td>\n",
       "      <td>0</td>\n",
       "      <td>0</td>\n",
       "      <td>160</td>\n",
       "      <td>0</td>\n",
       "      <td>1.6</td>\n",
       "      <td>1</td>\n",
       "      <td>1</td>\n",
       "      <td>2</td>\n",
       "      <td>0</td>\n",
       "    </tr>\n",
       "  </tbody>\n",
       "</table>\n",
       "<p>303 rows × 14 columns</p>\n",
       "</div>"
      ],
      "text/plain": [
       "     age  sex  Chest Pain Type  Resting BP  Serum Cholestrol  \\\n",
       "0     57    1                2         150               126   \n",
       "1     57    1                0         130               131   \n",
       "2     44    0                2         108               141   \n",
       "3     71    0                0         112               149   \n",
       "4     49    1                2         118               149   \n",
       "..   ...  ...              ...         ...               ...   \n",
       "298   62    0                0         140               394   \n",
       "299   63    0                0         150               407   \n",
       "300   56    0                0         134               409   \n",
       "301   65    0                2         140               417   \n",
       "302   67    0                2         115               564   \n",
       "\n",
       "     Fasting Blood Sugar  Resting ECG  Max Heart rate achieved  \\\n",
       "0                      1            1                      173   \n",
       "1                      0            1                      115   \n",
       "2                      0            1                      175   \n",
       "3                      0            1                      125   \n",
       "4                      0            0                      126   \n",
       "..                   ...          ...                      ...   \n",
       "298                    0            0                      157   \n",
       "299                    0            0                      154   \n",
       "300                    0            0                      150   \n",
       "301                    1            0                      157   \n",
       "302                    0            0                      160   \n",
       "\n",
       "     Exercice induced angina  Depression induced by exercise  slope  ca  thal  \\\n",
       "0                          0                             0.2      0   0     1   \n",
       "1                          1                             1.2      0   0     2   \n",
       "2                          0                             0.6      2   0     2   \n",
       "3                          0                             1.6      2   0     2   \n",
       "4                          0                             0.8      2   0     2   \n",
       "..                       ...                             ...    ...  ..   ...   \n",
       "298                        0                             1.2      1   0     3   \n",
       "299                        0                             4.0      1   0     3   \n",
       "300                        1                             1.9      1   2     3   \n",
       "301                        0                             0.8      1   1     3   \n",
       "302                        0                             1.6      1   1     2   \n",
       "\n",
       "     target  \n",
       "0         1  \n",
       "1         1  \n",
       "2         1  \n",
       "3         1  \n",
       "4         1  \n",
       "..      ...  \n",
       "298       0  \n",
       "299       0  \n",
       "300       0  \n",
       "301       0  \n",
       "302       0  \n",
       "\n",
       "[303 rows x 14 columns]"
      ]
     },
     "execution_count": 3,
     "metadata": {},
     "output_type": "execute_result"
    }
   ],
   "source": [
    "dataset = pd.read_csv(\"C:/Users/megha/Desktop/Q3/Predictive Analytics/Final Project/Heart_dataset.csv\")\n",
    "dataset"
   ]
  },
  {
   "cell_type": "code",
   "execution_count": 4,
   "metadata": {
    "colab": {
     "base_uri": "https://localhost:8080/",
     "height": 289
    },
    "colab_type": "code",
    "id": "nZvW2qtl8yXl",
    "outputId": "a52411a2-d60b-4dc5-d165-b114baf53529"
   },
   "outputs": [
    {
     "name": "stdout",
     "output_type": "stream",
     "text": [
      "Shape of DataFrame: (303, 14)\n",
      "age                                57.0\n",
      "sex                                 1.0\n",
      "Chest Pain Type                     0.0\n",
      "Resting BP                        130.0\n",
      "Serum Cholestrol                  131.0\n",
      "Fasting Blood Sugar                 0.0\n",
      "Resting ECG                         1.0\n",
      "Max Heart rate achieved           115.0\n",
      "Exercice induced angina             1.0\n",
      "Depression induced by exercise      1.2\n",
      "slope                               0.0\n",
      "ca                                  0.0\n",
      "thal                                2.0\n",
      "target                              1.0\n",
      "Name: 1, dtype: float64\n"
     ]
    }
   ],
   "source": [
    "print( 'Shape of DataFrame: {}'.format(dataset.shape))\n",
    "print (dataset.loc[1])"
   ]
  },
  {
   "cell_type": "code",
   "execution_count": 5,
   "metadata": {
    "colab": {
     "base_uri": "https://localhost:8080/",
     "height": 1000
    },
    "colab_type": "code",
    "id": "y4lq9-1R9AJd",
    "outputId": "f1c21014-1c02-4a2f-bb79-e516977c1e80"
   },
   "outputs": [
    {
     "data": {
      "image/png": "[encoded data removed]",
      "text/plain": [
       "<Figure size 1440x1440 with 16 Axes>"
      ]
     },
     "metadata": {
      "needs_background": "light"
     },
     "output_type": "display_data"
    }
   ],
   "source": [
    "dataset.hist(figsize = (20,20))\n",
    "plt.show()"
   ]
  },
  {
   "cell_type": "code",
   "execution_count": 6,
   "metadata": {
    "colab": {
     "base_uri": "https://localhost:8080/",
     "height": 279
    },
    "colab_type": "code",
    "id": "rL_KflvH9Da2",
    "outputId": "686ad0f3-5b26-4dd8-a5c0-2ba1c29ecd7e"
   },
   "outputs": [
    {
     "data": {
      "image/png": "[encoded data removed]",
      "text/plain": [
       "<Figure size 432x288 with 1 Axes>"
      ]
     },
     "metadata": {
      "needs_background": "light"
     },
     "output_type": "display_data"
    }
   ],
   "source": [
    "sns.countplot(x=\"target\", data=dataset)\n",
    "plt.show()"
   ]
  },
  {
   "cell_type": "code",
   "execution_count": 7,
   "metadata": {
    "colab": {
     "base_uri": "https://localhost:8080/",
     "height": 51
    },
    "colab_type": "code",
    "id": "maWz-IvK9IQ1",
    "outputId": "3428985d-f6af-44f6-fd7a-b4106add65cc"
   },
   "outputs": [
    {
     "name": "stdout",
     "output_type": "stream",
     "text": [
      "Percentage of Patients Doesn't have Heart Disease: 45.54%\n",
      "Percentage of Patients Have Heart Disease: 54.46%\n"
     ]
    }
   ],
   "source": [
    "#No. of Patients having Heart disease\n",
    "No_Disease = len(dataset[dataset.target == 0])\n",
    "Heart_Disease = len(dataset[dataset.target == 1])\n",
    "print(\"Percentage of Patients Doesn't have Heart Disease: {:.2f}%\".format((No_Disease / (len(dataset.target))*100)))\n",
    "print(\"Percentage of Patients Have Heart Disease: {:.2f}%\".format((Heart_Disease / (len(dataset.target))*100)))"
   ]
  },
  {
   "cell_type": "code",
   "execution_count": 8,
   "metadata": {
    "colab": {
     "base_uri": "https://localhost:8080/",
     "height": 279
    },
    "colab_type": "code",
    "id": "TqQ-P_Fa9O7m",
    "outputId": "d8676c98-6190-4442-f1df-5d018b1a3661"
   },
   "outputs": [
    {
     "data": {
      "image/png": "[encoded data removed]",
      "text/plain": [
       "<Figure size 432x288 with 1 Axes>"
      ]
     },
     "metadata": {
      "needs_background": "light"
     },
     "output_type": "display_data"
    }
   ],
   "source": [
    "#Another Visualization to show the count of Male and Female patients\n",
    "sns.countplot(x='sex', data=dataset, palette=\"bwr\")\n",
    "plt.xlabel(\"Sex (0 = female, 1= male)\")\n",
    "plt.show()"
   ]
  },
  {
   "cell_type": "code",
   "execution_count": 9,
   "metadata": {
    "colab": {
     "base_uri": "https://localhost:8080/",
     "height": 51
    },
    "colab_type": "code",
    "id": "WMomLZ-w9U-Y",
    "outputId": "58f9f570-e67f-442d-eda6-e244df7bbf8c"
   },
   "outputs": [
    {
     "name": "stdout",
     "output_type": "stream",
     "text": [
      "Percentage of Female Patients: 31.68%\n",
      "Percentage of Male Patients: 68.32%\n"
     ]
    }
   ],
   "source": [
    "#Percentage of male and female patients\n",
    "F = len(dataset[dataset.sex == 0])\n",
    "M = len(dataset[dataset.sex == 1])\n",
    "print(\"Percentage of Female Patients: {:.2f}%\".format((F / (len(dataset.sex))*100))) # Rounding off to 2 decimals\n",
    "print(\"Percentage of Male Patients: {:.2f}%\".format((M / (len(dataset.sex))*100)))  # Rounding off to 2 decimals"
   ]
  },
  {
   "cell_type": "code",
   "execution_count": 10,
   "metadata": {
    "colab": {
     "base_uri": "https://localhost:8080/",
     "height": 34
    },
    "colab_type": "code",
    "id": "tK-UwWGUBXO5",
    "outputId": "47642918-e60e-4d75-d003-674870c60100"
   },
   "outputs": [
    {
     "name": "stdout",
     "output_type": "stream",
     "text": [
      " Accuracy of our Regression Model is  85.25%\n"
     ]
    }
   ],
   "source": [
    "# PERFORMING NORMALIZATION AND CALCULATING ACCURACY\n",
    "Y = dataset.target.values\n",
    "X_data = dataset.drop(['target'], 1)\n",
    "\n",
    "# Min-Max Normalization\n",
    "X = (X_data - np.min(X_data)) / (np.max(X_data) - np.min(X_data)).values\n",
    "\n",
    "X_train, X_test, Y_train, Y_test = train_test_split(X,Y,test_size = 0.2,random_state=0)\n",
    "\n",
    "#transpose matrices\n",
    "X_train = X_train.T\n",
    "Y_train = Y_train.T\n",
    "X_test = X_test.T\n",
    "Y_test = Y_test.T\n",
    "\n",
    "#Model 1 - Logistic Regression\n",
    "\n",
    "from sklearn.linear_model import LogisticRegression\n",
    "accuracies = {}\n",
    "lr = LogisticRegression()\n",
    "lr.fit(X_train.T,Y_train.T)\n",
    "accuracy = lr.score(X_test.T,Y_test.T)*100\n",
    "\n",
    "accuracies['Logistic Regression'] = accuracy\n",
    "print(\" Accuracy of our Regression Model is  {:.2f}%\".format(accuracy))"
   ]
  },
  {
   "cell_type": "code",
   "execution_count": 11,
   "metadata": {
    "colab": {},
    "colab_type": "code",
    "id": "vzXfsIcNBa5R"
   },
   "outputs": [],
   "source": [
    "Y = dataset.target.values\n",
    "X_dat = dataset.drop(['target'], 1)\n",
    "\n",
    "# Min-Max Normalization\n",
    "X = (X_dat - np.min(X_dat)) / (np.max(X_dat) - np.min(X_dat)).values\n",
    "\n",
    "X_train, X_test, Y_train, Y_test = train_test_split(X,Y,test_size = 0.2,random_state=0)\n",
    "\n",
    "#transpose matrices\n",
    "X_train = X_train.T\n",
    "Y_train = Y_train.T\n",
    "X_test = X_test.T\n",
    "Y_test = Y_test.T"
   ]
  },
  {
   "cell_type": "code",
   "execution_count": 12,
   "metadata": {
    "colab": {},
    "colab_type": "code",
    "id": "Y1Ju2dO_CsSV"
   },
   "outputs": [],
   "source": [
    "# Machine Learning Algorihm to print the metrics of the scores and accuracies for both Test and training sets \n",
    "\n",
    "from sklearn.metrics import accuracy_score, confusion_matrix, precision_score, recall_score, f1_score\n",
    "\n",
    "def print_score(clf, X_train, y_train, X_test, y_test, train=True):\n",
    "    if train:\n",
    "        pred = clf.predict(X_train)\n",
    "        print(\"Train Result:\\n================================================\")\n",
    "        print(f\"Accuracy Score: {accuracy_score(y_train, pred) * 100:.2f}%\")\n",
    "        print(\"_______________________________________________\")\n",
    "        print(\"Classification Report:\", end='')\n",
    "        print(f\"\\tPrecision Score: {precision_score(y_train, pred) * 100:.2f}%\")\n",
    "        print(f\"\\t\\t\\tRecall Score: {recall_score(y_train, pred) * 100:.2f}%\")\n",
    "        print(f\"\\t\\t\\tF1 score: {f1_score(y_train, pred) * 100:.2f}%\")\n",
    "        print(\"_______________________________________________\")\n",
    "        print(f\"Confusion Matrix: \\n {confusion_matrix(y_train, pred)}\\n\")\n",
    "        \n",
    "    elif train==False:\n",
    "        pred = clf.predict(X_test)\n",
    "        print(\"Test Result:\\n================================================\")        \n",
    "        print(f\"Accuracy Score: {accuracy_score(y_test, pred) * 100:.2f}%\")\n",
    "        print(\"_______________________________________________\")\n",
    "        print(\"Classification Report:\", end='')\n",
    "        print(f\"\\tPrecision Score: {precision_score(y_test, pred) * 100:.2f}%\")\n",
    "        print(f\"\\t\\t\\tRecall Score: {recall_score(y_test, pred) * 100:.2f}%\")\n",
    "        print(f\"\\t\\t\\tF1 score: {f1_score(y_test, pred) * 100:.2f}%\")\n",
    "        print(\"_______________________________________________\")\n",
    "        print(f\"Confusion Matrix: \\n {confusion_matrix(y_test, pred)}\\n\")"
   ]
  },
  {
   "cell_type": "code",
   "execution_count": 13,
   "metadata": {
    "colab": {},
    "colab_type": "code",
    "id": "02TanT0oDYtx"
   },
   "outputs": [],
   "source": [
    "# Splitting of Test and Train sets\n",
    "\n",
    "from sklearn.model_selection import train_test_split\n",
    "\n",
    "X = dataset.drop('target', axis=1)\n",
    "y = dataset.target\n",
    "\n",
    "X_train, X_test, Y_train, Y_test = train_test_split(X, y, test_size=0.2, random_state=42)"
   ]
  },
  {
   "cell_type": "code",
   "execution_count": 14,
   "metadata": {
    "colab": {
     "base_uri": "https://localhost:8080/",
     "height": 425
    },
    "colab_type": "code",
    "id": "Z4DZHg-QDeiK",
    "outputId": "81f94276-7580-4c50-b1e3-ad241bafa37f"
   },
   "outputs": [
    {
     "name": "stdout",
     "output_type": "stream",
     "text": [
      "Train Result:\n",
      "================================================\n",
      "Accuracy Score: 100.00%\n",
      "_______________________________________________\n",
      "Classification Report:\tPrecision Score: 100.00%\n",
      "\t\t\tRecall Score: 100.00%\n",
      "\t\t\tF1 score: 100.00%\n",
      "_______________________________________________\n",
      "Confusion Matrix: \n",
      " [[109   0]\n",
      " [  0 133]]\n",
      "\n",
      "Test Result:\n",
      "================================================\n",
      "Accuracy Score: 98.36%\n",
      "_______________________________________________\n",
      "Classification Report:\tPrecision Score: 96.97%\n",
      "\t\t\tRecall Score: 100.00%\n",
      "\t\t\tF1 score: 98.46%\n",
      "_______________________________________________\n",
      "Confusion Matrix: \n",
      " [[28  1]\n",
      " [ 0 32]]\n",
      "\n"
     ]
    }
   ],
   "source": [
    "# Model 2 -  Building the Decision Tree model\n",
    "#Decision tree classifier is a tree in which internal nodes are labeled by features\n",
    "#The classifier categorizes an object by recursively testing for the weights that the features labeling the internal nodes have in vector, until a leaf node is reached\n",
    "\n",
    "from sklearn.tree import DecisionTreeClassifier\n",
    "\n",
    "tree = DecisionTreeClassifier(random_state=42)\n",
    "tree.fit(X_train, Y_train)\n",
    "\n",
    "print_score(tree, X_train, Y_train, X_test, Y_test, train=True)\n",
    "print_score(tree, X_train, Y_train, X_test, Y_test, train=False)"
   ]
  },
  {
   "cell_type": "code",
   "execution_count": 21,
   "metadata": {
    "colab": {
     "base_uri": "https://localhost:8080/",
     "height": 34
    },
    "colab_type": "code",
    "id": "Kbqx6XOfDiu5",
    "outputId": "7209e162-8b7f-4c4f-d105-7891411d4b39"
   },
   "outputs": [
    {
     "name": "stderr",
     "output_type": "stream",
     "text": [
      "Using TensorFlow backend.\n"
     ]
    }
   ],
   "source": [
    "from __future__ import print_function\n",
    "from keras.models import Sequential\n",
    "from keras import layers\n",
    "from keras.layers import Dense,Flatten"
   ]
  },
  {
   "cell_type": "code",
   "execution_count": 22,
   "metadata": {
    "colab": {
     "base_uri": "https://localhost:8080/",
     "height": 85
    },
    "colab_type": "code",
    "id": "XIMbygtfEXHU",
    "outputId": "d6fe9c14-badc-4b46-8b75-3c1a383ca3f8"
   },
   "outputs": [
    {
     "name": "stdout",
     "output_type": "stream",
     "text": [
      "Train Features Size: (242, 13)\n",
      "Test Features Size: (61, 13)\n",
      "Train Labels Size: (242,)\n",
      "Test Labels Size: (61,)\n"
     ]
    }
   ],
   "source": [
    "# Check dimensions of both sets.\n",
    "print(\"Train Features Size:\", X_train.shape)\n",
    "print(\"Test Features Size:\", X_test.shape)\n",
    "print(\"Train Labels Size:\", Y_train.shape)\n",
    "print(\"Test Labels Size:\", Y_test.shape)\n"
   ]
  },
  {
   "cell_type": "code",
   "execution_count": 23,
   "metadata": {
    "colab": {},
    "colab_type": "code",
    "id": "khOpjeG8Ec7m"
   },
   "outputs": [],
   "source": [
    "#Model - 3\n",
    "# Create a Neural network model\n",
    "model = Sequential()"
   ]
  },
  {
   "cell_type": "code",
   "execution_count": 30,
   "metadata": {
    "colab": {},
    "colab_type": "code",
    "id": "-efrcJ6JEfdg"
   },
   "outputs": [],
   "source": [
    "model.add(Dense(256, activation='relu', input_dim = 13))\n",
    "model.add(Dense(256, activation='relu', input_dim = 13))\n",
    "model.add(Dense(128, activation='relu', input_dim = 13))\n",
    "model.add(Dense(64, activation='relu', input_dim = 13))\n",
    "model.add(Dense(32, activation='relu', input_dim = 13))\n",
    "model.add(Dense(1, activation='sigmoid'))"
   ]
  },
  {
   "cell_type": "code",
   "execution_count": 31,
   "metadata": {
    "colab": {},
    "colab_type": "code",
    "id": "btgJtC9TEhQQ"
   },
   "outputs": [],
   "source": [
    "model.compile(optimizer='adam',loss='binary_crossentropy',metrics=['accuracy'])"
   ]
  },
  {
   "cell_type": "code",
   "execution_count": 32,
   "metadata": {
    "colab": {
     "base_uri": "https://localhost:8080/",
     "height": 1000
    },
    "colab_type": "code",
    "id": "VG_8fWt4Ejxg",
    "outputId": "e5202ecd-9ddc-45c6-82df-2b5fef6039c0"
   },
   "outputs": [
    {
     "name": "stdout",
     "output_type": "stream",
     "text": [
      "Train on 242 samples, validate on 61 samples\n",
      "Epoch 1/50\n",
      "242/242 [==============================] - 0s 2ms/step - loss: 0.6772 - accuracy: 0.5331 - val_loss: 0.6510 - val_accuracy: 0.5246\n",
      "Epoch 2/50\n",
      "242/242 [==============================] - 0s 182us/step - loss: 0.6148 - accuracy: 0.6901 - val_loss: 0.5666 - val_accuracy: 0.9016\n",
      "Epoch 3/50\n",
      "242/242 [==============================] - 0s 228us/step - loss: 0.5154 - accuracy: 0.8884 - val_loss: 0.4961 - val_accuracy: 0.8852\n",
      "Epoch 4/50\n",
      "242/242 [==============================] - 0s 225us/step - loss: 0.5078 - accuracy: 0.7603 - val_loss: 0.4080 - val_accuracy: 0.9016\n",
      "Epoch 5/50\n",
      "242/242 [==============================] - 0s 215us/step - loss: 0.3803 - accuracy: 0.9050 - val_loss: 0.4884 - val_accuracy: 0.8689\n",
      "Epoch 6/50\n",
      "242/242 [==============================] - 0s 189us/step - loss: 0.3414 - accuracy: 0.8967 - val_loss: 0.3197 - val_accuracy: 0.9016\n",
      "Epoch 7/50\n",
      "242/242 [==============================] - 0s 194us/step - loss: 0.3094 - accuracy: 0.8967 - val_loss: 0.2798 - val_accuracy: 0.9016\n",
      "Epoch 8/50\n",
      "242/242 [==============================] - 0s 195us/step - loss: 0.3283 - accuracy: 0.8719 - val_loss: 0.3399 - val_accuracy: 0.8361\n",
      "Epoch 9/50\n",
      "242/242 [==============================] - 0s 205us/step - loss: 0.2789 - accuracy: 0.8926 - val_loss: 0.5092 - val_accuracy: 0.8197\n",
      "Epoch 10/50\n",
      "242/242 [==============================] - 0s 231us/step - loss: 0.3862 - accuracy: 0.8678 - val_loss: 0.3369 - val_accuracy: 0.8689\n",
      "Epoch 11/50\n",
      "242/242 [==============================] - 0s 172us/step - loss: 0.2767 - accuracy: 0.9091 - val_loss: 0.3413 - val_accuracy: 0.8525\n",
      "Epoch 12/50\n",
      "242/242 [==============================] - 0s 178us/step - loss: 0.2660 - accuracy: 0.8884 - val_loss: 0.3803 - val_accuracy: 0.8197\n",
      "Epoch 13/50\n",
      "242/242 [==============================] - 0s 180us/step - loss: 0.2879 - accuracy: 0.9008 - val_loss: 0.3792 - val_accuracy: 0.8197\n",
      "Epoch 14/50\n",
      "242/242 [==============================] - 0s 189us/step - loss: 0.2690 - accuracy: 0.8884 - val_loss: 0.2633 - val_accuracy: 0.9180\n",
      "Epoch 15/50\n",
      "242/242 [==============================] - 0s 181us/step - loss: 0.2899 - accuracy: 0.8926 - val_loss: 0.4122 - val_accuracy: 0.9016\n",
      "Epoch 16/50\n",
      "242/242 [==============================] - 0s 186us/step - loss: 0.2349 - accuracy: 0.9008 - val_loss: 0.3058 - val_accuracy: 0.8852\n",
      "Epoch 17/50\n",
      "242/242 [==============================] - 0s 185us/step - loss: 0.2485 - accuracy: 0.8926 - val_loss: 0.2705 - val_accuracy: 0.9016\n",
      "Epoch 18/50\n",
      "242/242 [==============================] - 0s 209us/step - loss: 0.2671 - accuracy: 0.8843 - val_loss: 0.2229 - val_accuracy: 0.8852\n",
      "Epoch 19/50\n",
      "242/242 [==============================] - 0s 189us/step - loss: 0.2316 - accuracy: 0.9050 - val_loss: 0.2445 - val_accuracy: 0.8852\n",
      "Epoch 20/50\n",
      "242/242 [==============================] - 0s 167us/step - loss: 0.2188 - accuracy: 0.9132 - val_loss: 0.2529 - val_accuracy: 0.9016\n",
      "Epoch 21/50\n",
      "242/242 [==============================] - 0s 161us/step - loss: 0.2306 - accuracy: 0.9050 - val_loss: 0.2126 - val_accuracy: 0.8689\n",
      "Epoch 22/50\n",
      "242/242 [==============================] - 0s 163us/step - loss: 0.1999 - accuracy: 0.9298 - val_loss: 0.4464 - val_accuracy: 0.8033\n",
      "Epoch 23/50\n",
      "242/242 [==============================] - 0s 175us/step - loss: 0.3675 - accuracy: 0.8471 - val_loss: 0.2593 - val_accuracy: 0.9016\n",
      "Epoch 24/50\n",
      "242/242 [==============================] - 0s 220us/step - loss: 0.2947 - accuracy: 0.8678 - val_loss: 0.2295 - val_accuracy: 0.8689\n",
      "Epoch 25/50\n",
      "242/242 [==============================] - 0s 176us/step - loss: 0.2177 - accuracy: 0.9091 - val_loss: 0.2233 - val_accuracy: 0.8689\n",
      "Epoch 26/50\n",
      "242/242 [==============================] - 0s 164us/step - loss: 0.2158 - accuracy: 0.9050 - val_loss: 0.3150 - val_accuracy: 0.8852\n",
      "Epoch 27/50\n",
      "242/242 [==============================] - 0s 192us/step - loss: 0.2089 - accuracy: 0.9050 - val_loss: 0.2246 - val_accuracy: 0.9180\n",
      "Epoch 28/50\n",
      "242/242 [==============================] - 0s 173us/step - loss: 0.2005 - accuracy: 0.9008 - val_loss: 0.2045 - val_accuracy: 0.8689\n",
      "Epoch 29/50\n",
      "242/242 [==============================] - 0s 174us/step - loss: 0.2034 - accuracy: 0.9050 - val_loss: 0.1927 - val_accuracy: 0.8852\n",
      "Epoch 30/50\n",
      "242/242 [==============================] - 0s 187us/step - loss: 0.2432 - accuracy: 0.8967 - val_loss: 0.3258 - val_accuracy: 0.8852\n",
      "Epoch 31/50\n",
      "242/242 [==============================] - 0s 192us/step - loss: 0.2303 - accuracy: 0.9091 - val_loss: 0.2344 - val_accuracy: 0.9016\n",
      "Epoch 32/50\n",
      "242/242 [==============================] - 0s 183us/step - loss: 0.2072 - accuracy: 0.9132 - val_loss: 0.2270 - val_accuracy: 0.9016\n",
      "Epoch 33/50\n",
      "242/242 [==============================] - 0s 193us/step - loss: 0.1958 - accuracy: 0.9215 - val_loss: 0.2256 - val_accuracy: 0.9016\n",
      "Epoch 34/50\n",
      "242/242 [==============================] - 0s 210us/step - loss: 0.2369 - accuracy: 0.8926 - val_loss: 0.1869 - val_accuracy: 0.8852\n",
      "Epoch 35/50\n",
      "242/242 [==============================] - 0s 197us/step - loss: 0.2212 - accuracy: 0.9050 - val_loss: 0.2433 - val_accuracy: 0.9180\n",
      "Epoch 36/50\n",
      "242/242 [==============================] - 0s 184us/step - loss: 0.1876 - accuracy: 0.9256 - val_loss: 0.1866 - val_accuracy: 0.8852\n",
      "Epoch 37/50\n",
      "242/242 [==============================] - 0s 184us/step - loss: 0.1716 - accuracy: 0.9504 - val_loss: 0.1882 - val_accuracy: 0.9016\n",
      "Epoch 38/50\n",
      "242/242 [==============================] - 0s 178us/step - loss: 0.1669 - accuracy: 0.9298 - val_loss: 0.3054 - val_accuracy: 0.9180\n",
      "Epoch 39/50\n",
      "242/242 [==============================] - 0s 178us/step - loss: 0.2080 - accuracy: 0.9298 - val_loss: 0.1860 - val_accuracy: 0.9016\n",
      "Epoch 40/50\n",
      "242/242 [==============================] - 0s 167us/step - loss: 0.1654 - accuracy: 0.9463 - val_loss: 0.1776 - val_accuracy: 0.9016\n",
      "Epoch 41/50\n",
      "242/242 [==============================] - 0s 171us/step - loss: 0.2062 - accuracy: 0.9132 - val_loss: 0.2123 - val_accuracy: 0.9016\n",
      "Epoch 42/50\n",
      "242/242 [==============================] - 0s 183us/step - loss: 0.2218 - accuracy: 0.9215 - val_loss: 0.2856 - val_accuracy: 0.8852\n",
      "Epoch 43/50\n",
      "242/242 [==============================] - 0s 178us/step - loss: 0.2253 - accuracy: 0.9050 - val_loss: 0.2004 - val_accuracy: 0.8852\n",
      "Epoch 44/50\n",
      "242/242 [==============================] - 0s 169us/step - loss: 0.1864 - accuracy: 0.9215 - val_loss: 0.2662 - val_accuracy: 0.9180\n",
      "Epoch 45/50\n",
      "242/242 [==============================] - 0s 164us/step - loss: 0.1867 - accuracy: 0.9091 - val_loss: 0.1957 - val_accuracy: 0.8852\n",
      "Epoch 46/50\n",
      "242/242 [==============================] - 0s 211us/step - loss: 0.1599 - accuracy: 0.9215 - val_loss: 0.1875 - val_accuracy: 0.9016\n",
      "Epoch 47/50\n",
      "242/242 [==============================] - 0s 193us/step - loss: 0.1848 - accuracy: 0.9215 - val_loss: 0.2213 - val_accuracy: 0.9180\n",
      "Epoch 48/50\n",
      "242/242 [==============================] - 0s 180us/step - loss: 0.1639 - accuracy: 0.9421 - val_loss: 0.1873 - val_accuracy: 0.9180\n",
      "Epoch 49/50\n",
      "242/242 [==============================] - 0s 173us/step - loss: 0.2064 - accuracy: 0.9174 - val_loss: 0.1862 - val_accuracy: 0.8852\n",
      "Epoch 50/50\n",
      "242/242 [==============================] - 0s 162us/step - loss: 0.1916 - accuracy: 0.9256 - val_loss: 0.1825 - val_accuracy: 0.8852\n"
     ]
    }
   ],
   "source": [
    "NN_model = model.fit(X_train,Y_train,validation_data=(X_test, Y_test),epochs=50)"
   ]
  },
  {
   "cell_type": "code",
   "execution_count": 33,
   "metadata": {
    "colab": {
     "base_uri": "https://localhost:8080/",
     "height": 34
    },
    "colab_type": "code",
    "id": "WgEjCPXYElWS",
    "outputId": "17211afa-edb1-4e62-a9a3-4acf7ad219f3"
   },
   "outputs": [
    {
     "name": "stdout",
     "output_type": "stream",
     "text": [
      "61/61 [==============================] - 0s 150us/step\n"
     ]
    }
   ],
   "source": [
    "## checking the model score \n",
    "result = model.evaluate(X_test,Y_test)"
   ]
  },
  {
   "cell_type": "code",
   "execution_count": 34,
   "metadata": {
    "colab": {
     "base_uri": "https://localhost:8080/",
     "height": 34
    },
    "colab_type": "code",
    "id": "jlcxvkGhEwSh",
    "outputId": "6c2e4a9e-82c0-4400-99b2-31c9b8605e60"
   },
   "outputs": [
    {
     "name": "stdout",
     "output_type": "stream",
     "text": [
      "[0.42716123 0.94087508]\n"
     ]
    }
   ],
   "source": [
    "rmse = np.sqrt(result)\n",
    "print(rmse)"
   ]
  },
  {
   "cell_type": "code",
   "execution_count": 35,
   "metadata": {
    "colab": {
     "base_uri": "https://localhost:8080/",
     "height": 573
    },
    "colab_type": "code",
    "id": "vGRJEI48EzZz",
    "outputId": "8466cccf-6963-484f-98e0-357a6db0cdaf"
   },
   "outputs": [
    {
     "data": {
      "image/png": "[encoded data removed]",
      "text/plain": [
       "<Figure size 432x288 with 1 Axes>"
      ]
     },
     "metadata": {
      "needs_background": "light",
      "tags": []
     },
     "output_type": "display_data"
    },
    {
     "data": {
      "image/png": "[encoded data removed]",
      "text/plain": [
       "<Figure size 432x288 with 1 Axes>"
      ]
     },
     "metadata": {
      "needs_background": "light",
      "tags": []
     },
     "output_type": "display_data"
    }
   ],
   "source": [
    "from matplotlib import pyplot as plt\n",
    "\n",
    "\n",
    "# Plot the model accuracy vs. number of Epochs\n",
    "plt.plot(NN_model.history['accuracy'])\n",
    "plt.plot(NN_model.history['val_accuracy'])\n",
    "plt.title('Model Accuracy')\n",
    "plt.ylabel('Accuracy')\n",
    "plt.xlabel('Epochs')\n",
    "plt.legend(['Train', 'Test'])\n",
    "plt.show()\n",
    "\n",
    "# Plot the Loss function vs. number of Epochs\n",
    "plt.plot(NN_model.history['loss'])\n",
    "plt.plot(NN_model.history['val_loss'])\n",
    "plt.title('Model Loss')\n",
    "plt.ylabel('Loss')\n",
    "plt.xlabel('Epochs')\n",
    "plt.legend(['Train', 'Test'])\n",
    "plt.show()"
   ]
  },
  {
   "cell_type": "code",
   "execution_count": null,
   "metadata": {
    "colab": {},
    "colab_type": "code",
    "id": "TPiZHrm9E1QG"
   },
   "outputs": [],
   "source": []
  }
 ],
 "metadata": {
  "colab": {
   "name": "Heart Disease.ipynb",
   "provenance": []
  },
  "kernelspec": {
   "display_name": "Python 3",
   "language": "python",
   "name": "python3"
  },
  "language_info": {
   "codemirror_mode": {
    "name": "ipython",
    "version": 3
   },
   "file_extension": ".py",
   "mimetype": "text/x-python",
   "name": "python",
   "nbconvert_exporter": "python",
   "pygments_lexer": "ipython3",
   "version": "3.7.6"
  }
 },
 "nbformat": 4,
 "nbformat_minor": 1
}
