{
 "cells": [
  {
   "cell_type": "markdown",
   "metadata": {},
   "source": [
    "# Installing required packages"
   ]
  },
  {
   "cell_type": "code",
   "execution_count": 55,
   "metadata": {},
   "outputs": [],
   "source": [
    "import pandas as pd\n",
    "import numpy as np\n",
    "\n",
    "from sklearn.model_selection import train_test_split\n",
    "from sklearn.preprocessing import StandardScaler\n",
    "from sklearn.neighbors import KNeighborsClassifier\n",
    "from sklearn.metrics import confusion_matrix,classification_report\n",
    "from sklearn.metrics import f1_score\n",
    "from sklearn.metrics import accuracy_score\n",
    "import matplotlib.pyplot as plt\n",
    "from pandas.plotting import scatter_matrix\n",
    "import seaborn as sns\n"
   ]
  },
  {
   "cell_type": "markdown",
   "metadata": {},
   "source": [
    "# LOADING THE REQUIRED DATASET"
   ]
  },
  {
   "cell_type": "code",
   "execution_count": 56,
   "metadata": {},
   "outputs": [],
   "source": [
    "dataset = pd.read_csv(\"C:/Users/Jrish/Desktop/Heart_dataset.csv\")\n",
    "#dataset"
   ]
  },
  {
   "cell_type": "markdown",
   "metadata": {},
   "source": [
    "# SHAPING THE DATAFRAME"
   ]
  },
  {
   "cell_type": "code",
   "execution_count": 57,
   "metadata": {},
   "outputs": [
    {
     "name": "stdout",
     "output_type": "stream",
     "text": [
      "Shape of DataFrame: (303, 14)\n",
      "age                                57.0\n",
      "sex                                 1.0\n",
      "Chest Pain Type                     0.0\n",
      "Resting BP                        130.0\n",
      "Serum Cholestrol                  131.0\n",
      "Fasting Blood Sugar                 0.0\n",
      "Resting ECG                         1.0\n",
      "Max Heart rate achieved           115.0\n",
      "Exercice induced angina             1.0\n",
      "Depression induced by exercise      1.2\n",
      "slope                               0.0\n",
      "ca                                  0.0\n",
      "thal                                2.0\n",
      "target                              1.0\n",
      "Name: 1, dtype: float64\n"
     ]
    }
   ],
   "source": [
    "print( 'Shape of DataFrame: {}'.format(dataset.shape))\n",
    "print (dataset.loc[1])"
   ]
  },
  {
   "cell_type": "code",
   "execution_count": 58,
   "metadata": {},
   "outputs": [
    {
     "name": "stdout",
     "output_type": "stream",
     "text": [
      "==============================\n",
      "age : [57 44 71 49 41 45 62 61 40 70 51 38 59 65 46 43 60 42 34 35 56 52 63 54\n",
      " 68 50 53 76 58 39 29 47 55 64 66 67 37 48 69 74 77]\n",
      "==============================\n",
      "sex : [1 0]\n",
      "==============================\n",
      "Chest Pain Type : [2 0 1 3]\n",
      "==============================\n",
      "Resting BP : [150 130 108 112 118 120 160 138 110 145 164 142 140 132 122 144 129 136\n",
      " 101 124 105 172  94 134 135 148 128 104 125 152 146 126 100 106 170 178\n",
      " 117 154 156 174 115 102 155 180 123 192 200 165 114]\n",
      "==============================\n",
      "Serum Cholestrol : [126 131 141 149 157 160 164 166 167 168 169 172 174 175 176 177 178 180\n",
      " 182 183 184 185 186 187 188 192 193 195 196 197 198 199 200 201 203 204\n",
      " 205 206 207 208 209 210 211 212 213 214 215 216 217 218 219 220 221 222\n",
      " 223 224 225 226 227 228 229 230 231 232 233 234 235 236 237 239 240 241\n",
      " 242 243 244 245 246 247 248 249 250 252 253 254 255 256 257 258 259 260\n",
      " 261 262 263 264 265 266 267 268 269 270 271 273 274 275 276 277 278 281\n",
      " 282 283 284 286 288 289 290 293 294 295 298 299 300 302 303 304 305 306\n",
      " 307 308 309 311 313 315 318 319 321 322 325 326 327 330 335 340 341 342\n",
      " 353 354 360 394 407 409 417 564]\n",
      "==============================\n",
      "Fasting Blood Sugar : [1 0]\n",
      "==============================\n",
      "Resting ECG : [1 0 2]\n",
      "==============================\n",
      "Max Heart rate achieved : [173 115 175 125 126 182 138 145 114 174 144 158 123  90 140 160 120 162\n",
      "  96 150 105 155 190 113 139 148 141 179 163 169 152 156 116 131 177 136\n",
      " 168 130 178 132 161 172 202 143 184 108 192 165 157 170 111 134 188 164\n",
      " 186 142 181 146 154 129 147 180 153  71 151 194 171 149 137 128 166 122\n",
      " 187 159 127 185  97 109 167  99 121 112  88 118 103  95 195 133 124 106\n",
      " 117]\n",
      "==============================\n",
      "Exercice induced angina : [0 1]\n",
      "==============================\n",
      "Depression induced by exercise : [0.2 1.2 0.6 1.6 0.8 0.  6.2 3.6 2.  2.8 2.6 1.  0.4 1.4 2.5 2.1 3.  4.\n",
      " 1.9 3.4 0.1 1.1 0.5 0.9 1.5 3.1 2.4 0.7 1.8 2.2 5.6 0.3 3.2 2.3 3.8 3.5\n",
      " 2.9 4.2 1.3 4.4]\n",
      "==============================\n",
      "slope : [0 2 1]\n",
      "==============================\n",
      "ca : [0 2 1 3 4]\n",
      "==============================\n",
      "thal : [1 2 3 0]\n",
      "==============================\n",
      "target : [1 0]\n"
     ]
    }
   ],
   "source": [
    "cat_val = []\n",
    "cont_val = []\n",
    "for column in df.columns:\n",
    "    print('==============================')\n",
    "    print(f\"{column} : {dataset[column].unique()}\")\n",
    "    if len(dataset[column].unique()) <= 10:\n",
    "        cat_val.append(column)\n",
    "    else:\n",
    "        cont_val.append(column)"
   ]
  },
  {
   "cell_type": "code",
   "execution_count": 59,
   "metadata": {},
   "outputs": [],
   "source": [
    "cat_val.remove('target')\n",
    "data = pd.get_dummies(dataset, columns = cat_val)"
   ]
  },
  {
   "cell_type": "code",
   "execution_count": 65,
   "metadata": {},
   "outputs": [],
   "source": [
    "from sklearn.preprocessing import StandardScaler\n",
    "\n",
    "s_scal = StandardScaler()\n",
    "col_to_scale = ['age', 'Resting BP', 'Serum Cholestrol', 'Max Heart rate achieved', 'Depression induced by exercise']\n",
    "dataset[col_to_scale] = s_scal.fit_transform(data[col_to_scale])\n",
    "#data.head()\n"
   ]
  },
  {
   "cell_type": "code",
   "execution_count": 66,
   "metadata": {},
   "outputs": [],
   "source": [
    "Y = data.target.values\n",
    "X_dat = data.drop(['target'], 1)\n",
    "\n",
    "# Min-Max Normalization\n",
    "X = (X_dat - np.min(X_dat)) / (np.max(X_dat) - np.min(X_dat)).values\n",
    "\n",
    "X_train, X_test, Y_train, Y_test = train_test_split(X,Y,test_size = 0.2,random_state=0)\n",
    "\n",
    "#transpose matrices\n",
    "X_train = X_train.T\n",
    "Y_train = Y_train.T\n",
    "X_test = X_test.T\n",
    "Y_test = Y_test.T"
   ]
  },
  {
   "cell_type": "code",
   "execution_count": 62,
   "metadata": {},
   "outputs": [],
   "source": [
    "from sklearn.metrics import accuracy_score, confusion_matrix, precision_score, recall_score, f1_score\n",
    "\n",
    "def print_score(clf, X_train, y_train, X_test, y_test, train=True):\n",
    "    if train:\n",
    "        pred = clf.predict(X_train)\n",
    "        print(\"Train Result:\\n================================================\")\n",
    "        print(f\"Accuracy Score: {accuracy_score(y_train, pred) * 100:.2f}%\")\n",
    "        print(\"_______________________________________________\")\n",
    "        print(\"Classification Report:\", end='')\n",
    "        print(f\"\\tPrecision Score: {precision_score(y_train, pred) * 100:.2f}%\")\n",
    "        print(f\"\\t\\t\\tRecall Score: {recall_score(y_train, pred) * 100:.2f}%\")\n",
    "        print(f\"\\t\\t\\tF1 score: {f1_score(y_train, pred) * 100:.2f}%\")\n",
    "        print(\"_______________________________________________\")\n",
    "        print(f\"Confusion Matrix: \\n {confusion_matrix(y_train, pred)}\\n\")\n",
    "        \n",
    "    elif train==False:\n",
    "        pred = clf.predict(X_test)\n",
    "        print(\"Test Result:\\n================================================\")        \n",
    "        print(f\"Accuracy Score: {accuracy_score(y_test, pred) * 100:.2f}%\")\n",
    "        print(\"_______________________________________________\")\n",
    "        print(\"Classification Report:\", end='')\n",
    "        print(f\"\\tPrecision Score: {precision_score(y_test, pred) * 100:.2f}%\")\n",
    "        print(f\"\\t\\t\\tRecall Score: {recall_score(y_test, pred) * 100:.2f}%\")\n",
    "        print(f\"\\t\\t\\tF1 score: {f1_score(y_test, pred) * 100:.2f}%\")\n",
    "        print(\"_______________________________________________\")\n",
    "        print(f\"Confusion Matrix: \\n {confusion_matrix(y_test, pred)}\\n\")"
   ]
  },
  {
   "cell_type": "code",
   "execution_count": 73,
   "metadata": {},
   "outputs": [],
   "source": [
    "from sklearn.model_selection import train_test_split\n",
    "\n",
    "X = data.drop('target', axis=1)\n",
    "y = data.target\n",
    "\n",
    "X_train, X_test, Y_train, Y_test = train_test_split(X, y, test_size=0.2, random_state=42)"
   ]
  },
  {
   "cell_type": "code",
   "execution_count": 74,
   "metadata": {},
   "outputs": [
    {
     "name": "stdout",
     "output_type": "stream",
     "text": [
      "Train Result:\n",
      "================================================\n",
      "Accuracy Score: 100.00%\n",
      "_______________________________________________\n",
      "Classification Report:\tPrecision Score: 100.00%\n",
      "\t\t\tRecall Score: 100.00%\n",
      "\t\t\tF1 score: 100.00%\n",
      "_______________________________________________\n",
      "Confusion Matrix: \n",
      " [[109   0]\n",
      " [  0 133]]\n",
      "\n",
      "Test Result:\n",
      "================================================\n",
      "Accuracy Score: 98.36%\n",
      "_______________________________________________\n",
      "Classification Report:\tPrecision Score: 96.97%\n",
      "\t\t\tRecall Score: 100.00%\n",
      "\t\t\tF1 score: 98.46%\n",
      "_______________________________________________\n",
      "Confusion Matrix: \n",
      " [[28  1]\n",
      " [ 0 32]]\n",
      "\n"
     ]
    }
   ],
   "source": [
    "from sklearn.tree import DecisionTreeClassifier\n",
    "\n",
    "\n",
    "tree = DecisionTreeClassifier(random_state=42)\n",
    "tree.fit(X_train, Y_train)\n",
    "\n",
    "print_score(tree, X_train, Y_train, X_test, Y_test, train=True)\n",
    "print_score(tree, X_train, Y_train, X_test, Y_test, train=False)"
   ]
  }
 ],
 "metadata": {
  "kernelspec": {
   "display_name": "Python 3",
   "language": "python",
   "name": "python3"
  },
  "language_info": {
   "codemirror_mode": {
    "name": "ipython",
    "version": 3
   },
   "file_extension": ".py",
   "mimetype": "text/x-python",
   "name": "python",
   "nbconvert_exporter": "python",
   "pygments_lexer": "ipython3",
   "version": "3.7.6"
  }
 },
 "nbformat": 4,
 "nbformat_minor": 4
}
